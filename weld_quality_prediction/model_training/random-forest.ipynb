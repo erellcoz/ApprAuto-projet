{
 "cells": [
  {
   "cell_type": "code",
   "execution_count": 19,
   "metadata": {},
   "outputs": [],
   "source": [
    "import sys\n",
    "import os\n",
    "\n",
    "# Add the root directory to the Python path\n",
    "sys.path.append(os.path.abspath(os.path.join(os.path.dirname('weld_quality_prediction'), '..')))\n",
    "\n",
    "from data_preprocessing.functions import replace_data, choose_labels, pipeline_training_set\n",
    "from sklearn.model_selection import train_test_split\n",
    "import warnings\n",
    "import pandas as pd\n",
    "import numpy as np"
   ]
  },
  {
   "cell_type": "code",
   "execution_count": 20,
   "metadata": {},
   "outputs": [],
   "source": [
    "data = pd.read_csv('../data/welddb.data', sep=' ', header=None)\n",
    "\n",
    "column_names = [\n",
    "    \"Carbon_concentration\",\n",
    "    \"Silicon_concentration\",\n",
    "    \"Manganese_concentration\",\n",
    "    \"Sulphur_concentration\",\n",
    "    \"Phosphorus_concentration\",\n",
    "    \"Nickel_concentration\",\n",
    "    \"Chromium_concentration\",\n",
    "    \"Molybdenum_concentration\",\n",
    "    \"Vanadium_concentration\",\n",
    "    \"Copper_concentration\",\n",
    "    \"Cobalt_concentration\",\n",
    "    \"Tungsten_concentration\",\n",
    "    \"Oxygen_concentration\",\n",
    "    \"Titanium_concentration\",\n",
    "    \"Nitrogen_concentration\",\n",
    "    \"Aluminium_concentration\",\n",
    "    \"Boron_concentration\",\n",
    "    \"Niobium_concentration\",\n",
    "    \"Tin_concentration\",\n",
    "    \"Arsenic_concentration\",\n",
    "    \"Antimony_concentration\",\n",
    "    \"Current\",\n",
    "    \"Voltage\",\n",
    "    \"AC_or_DC\",\n",
    "    \"Electrode_positive_or_negative\",\n",
    "    \"Heat_input\",\n",
    "    \"Interpass_temperature\",\n",
    "    \"Type_of_weld\",\n",
    "    \"Post_weld_heat_treatment_temperature\",\n",
    "    \"Post_weld_heat_treatment_time\",\n",
    "    \"Yield_strength\",\n",
    "    \"Ultimate_tensile_strength\",\n",
    "    \"Elongation\",\n",
    "    \"Reduction_of_Area\",\n",
    "    \"Charpy_temperature\",\n",
    "    \"Charpy_impact_toughness\",\n",
    "    \"Hardness\",\n",
    "    \"50%_FATT\",\n",
    "    \"Primary_ferrite_in_microstructure\",\n",
    "    \"Ferrite_with_second_phase\",\n",
    "    \"Acicular_ferrite\",\n",
    "    \"Martensite\",\n",
    "    \"Ferrite_with_carbide_aggregate\",\n",
    "    \"Weld_ID\"\n",
    "]\n",
    "\n",
    "sulphur_and_phosphorus_columns = [\"Sulphur_concentration\",\"Phosphorus_concentration\"]\n",
    "\n",
    "other_concentration_columns = [\"Carbon_concentration\",\n",
    "        \"Silicon_concentration\",\n",
    "        \"Manganese_concentration\",\n",
    "        \"Nickel_concentration\",\n",
    "        \"Chromium_concentration\",\n",
    "        \"Molybdenum_concentration\",\n",
    "        \"Vanadium_concentration\",\n",
    "        \"Copper_concentration\",\n",
    "        \"Cobalt_concentration\",\n",
    "        \"Tungsten_concentration\",\n",
    "        \"Oxygen_concentration\",\n",
    "        \"Titanium_concentration\",\n",
    "        \"Nitrogen_concentration\",\n",
    "        'Nitrogen_concentration_residual',\n",
    "        \"Aluminium_concentration\",\n",
    "        \"Boron_concentration\",\n",
    "        \"Niobium_concentration\",\n",
    "        \"Tin_concentration\",\n",
    "        \"Arsenic_concentration\",\n",
    "        \"Antimony_concentration\"]\n",
    "\n",
    "label_names = ['Yield_strength', 'Ultimate_tensile_strength', 'Elongation', 'Reduction_of_Area', 'Charpy_temperature', \n",
    "                   'Charpy_impact_toughness', 'Hardness', '50%_FATT', 'Primary_ferrite_in_microstructure', 'Ferrite_with_second_phase', \n",
    "                   'Acicular_ferrite', 'Martensite', 'Ferrite_with_carbide_aggregate', 'Hardness_load']\n",
    "\n",
    "physical_ordinal_properties_columns = [\n",
    "        'Current', \n",
    "        'Voltage',\n",
    "        'Heat_input',\n",
    "        'Interpass_temperature',\n",
    "        'Post_weld_heat_treatment_temperature',\n",
    "        'Post_weld_heat_treatment_time', \n",
    "    ]\n",
    "\n",
    "physical_categorical_properties_columns = [\n",
    "    'AC_or_DC',\n",
    "    'Electrode_positive_or_negative',\n",
    "    'Type_of_weld'\n",
    "]\n",
    "\n",
    "data.columns = column_names"
   ]
  },
  {
   "cell_type": "code",
   "execution_count": 21,
   "metadata": {},
   "outputs": [],
   "source": [
    "# Suppress all FutureWarnings\n",
    "warnings.filterwarnings(\"ignore\", category=FutureWarning)\n",
    "\n",
    "#Selection of the targets\n",
    "labels_selected = [\"Yield_strength\"]\n",
    "\n",
    "#Replace 'N' value with Nan\n",
    "data = replace_data(data)\n",
    "\n",
    "#Selection fof the data for supervised learning\n",
    "data_with_label = data.copy()\n",
    "data_with_label = data[data_with_label[labels_selected].notna().all(axis=1)]\n",
    "\n",
    "#Separation of features and labels\n",
    "X, y = choose_labels(data_with_label, labels_chosen=labels_selected)\n"
   ]
  },
  {
   "cell_type": "code",
   "execution_count": 22,
   "metadata": {},
   "outputs": [
    {
     "name": "stdout",
     "output_type": "stream",
     "text": [
      "Number of components chosen by PCA: 16\n",
      "Explained Variance Ratio: [0.1417783  0.13096131 0.07509128 0.06767513 0.05919526 0.04746247\n",
      " 0.04326758 0.03816442 0.03698318 0.03537689 0.03304419 0.03132463\n",
      " 0.02997622 0.02779311 0.02664962 0.02609292]\n"
     ]
    }
   ],
   "source": [
    "# Split into train and test\n",
    "X_train, X_test, y_train, y_test = train_test_split(X, y, test_size=0.1, shuffle=True, random_state=42)\n",
    "\n",
    "X_train, X_test, y_train, y_test = pipeline_training_set(training_set=X_train, training_labels=y_train, testing_set=X_test, testing_labels=y_test, \n",
    "                                                         labels_chosen=labels_selected, categorical_strategy=\"logistic\", \\\n",
    "                                                        ordinal_strategy=\"linear\", is_PCA=True, pca_percent_explained_variance=0.85, \n",
    "                                                        scaler_strategy=\"standard\", pca_columns=\"all_ordinals\", less_than_strategy=\"mean\")\n",
    "\n",
    "y_train = y_train.values.ravel()\n",
    "y_test = y_test.values.ravel()"
   ]
  },
  {
   "cell_type": "code",
   "execution_count": 23,
   "metadata": {},
   "outputs": [
    {
     "name": "stdout",
     "output_type": "stream",
     "text": [
      "RMSE : 60.859510140837656\n"
     ]
    }
   ],
   "source": [
    "\n",
    "from sklearn.ensemble import RandomForestRegressor\n",
    "from sklearn.metrics import mean_squared_error\n",
    "\n",
    "model = RandomForestRegressor(n_estimators=200)\n",
    "model.fit(X_train, y_train)\n",
    "y_pred = model.predict(X_test)\n",
    "rmse = np.sqrt(mean_squared_error(y_test, y_pred))\n",
    "print(\"RMSE :\", rmse)"
   ]
  },
  {
   "cell_type": "code",
   "execution_count": 24,
   "metadata": {},
   "outputs": [],
   "source": [
    "from sklearn.model_selection import GridSearchCV\n",
    "\n",
    "param_grid = {\n",
    "    'n_estimators': [100, 200, 300],\n",
    "    'max_depth': [None, 10, 20],\n",
    "    'min_samples_split': [2, 5, 10]\n",
    "}\n",
    "\n",
    "grid_search = GridSearchCV(model, param_grid, cv=5)\n",
    "grid_search.fit(X_train, y_train)\n"
   ]
  },
  {
   "cell_type": "code",
   "execution_count": 27,
   "metadata": {},
   "outputs": [
    {
     "name": "stdout",
     "output_type": "stream",
     "text": [
      "RandomForestRegressor()\n",
      "{'max_depth': None, 'min_samples_split': 2, 'n_estimators': 100}\n",
      "Best cross-validated score: 0.5951891342927761\n"
     ]
    }
   ],
   "source": [
    "best_model = grid_search.best_estimator_\n",
    "print(best_model)\n",
    "\n",
    "best_param = grid_search.best_params_\n",
    "print(best_param)\n",
    "\n",
    "best_score = grid_search.best_score_\n",
    "print(f\"Best cross-validated score: {best_score}\")"
   ]
  },
  {
   "cell_type": "code",
   "execution_count": 26,
   "metadata": {},
   "outputs": [
    {
     "name": "stdout",
     "output_type": "stream",
     "text": [
      "RMSE: 63.37659817655565\n"
     ]
    }
   ],
   "source": [
    "y_pred = best_model.predict(X_test)\n",
    "\n",
    "rmse = np.sqrt(mean_squared_error(y_test, y_pred))\n",
    "print(f\"RMSE: {rmse}\")"
   ]
  },
  {
   "cell_type": "code",
   "execution_count": 28,
   "metadata": {},
   "outputs": [
    {
     "name": "stdout",
     "output_type": "stream",
     "text": [
      "Initial model params:  {'bootstrap': True, 'ccp_alpha': 0.0, 'criterion': 'squared_error', 'max_depth': None, 'max_features': 1.0, 'max_leaf_nodes': None, 'max_samples': None, 'min_impurity_decrease': 0.0, 'min_samples_leaf': 1, 'min_samples_split': 2, 'min_weight_fraction_leaf': 0.0, 'monotonic_cst': None, 'n_estimators': 200, 'n_jobs': None, 'oob_score': False, 'random_state': None, 'verbose': 0, 'warm_start': False}\n",
      "Best model params:  {'bootstrap': True, 'ccp_alpha': 0.0, 'criterion': 'squared_error', 'max_depth': None, 'max_features': 1.0, 'max_leaf_nodes': None, 'max_samples': None, 'min_impurity_decrease': 0.0, 'min_samples_leaf': 1, 'min_samples_split': 2, 'min_weight_fraction_leaf': 0.0, 'monotonic_cst': None, 'n_estimators': 100, 'n_jobs': None, 'oob_score': False, 'random_state': None, 'verbose': 0, 'warm_start': False}\n"
     ]
    }
   ],
   "source": [
    "print(\"Initial model params: \", model.get_params())\n",
    "print(\"Best model params: \", best_model.get_params())\n"
   ]
  }
 ],
 "metadata": {
  "kernelspec": {
   "display_name": "Python 3",
   "language": "python",
   "name": "python3"
  },
  "language_info": {
   "codemirror_mode": {
    "name": "ipython",
    "version": 3
   },
   "file_extension": ".py",
   "mimetype": "text/x-python",
   "name": "python",
   "nbconvert_exporter": "python",
   "pygments_lexer": "ipython3",
   "version": "3.12.1"
  }
 },
 "nbformat": 4,
 "nbformat_minor": 2
}

{
 "cells": [
  {
   "cell_type": "code",
   "execution_count": 8,
   "metadata": {},
   "outputs": [],
   "source": [
    "import sys\n",
    "import os\n",
    "\n",
    "# Add the root directory to the Python path\n",
    "sys.path.append(os.path.abspath(os.path.join(os.path.dirname('weld_quality_prediction'), '..')))\n",
    "\n",
    "from data_preprocessing.functions import replace_data, choose_labels, pipeline_training_set\n",
    "from sklearn.model_selection import train_test_split\n",
    "import warnings\n",
    "import pandas as pd\n",
    "import numpy as np"
   ]
  },
  {
   "cell_type": "code",
   "execution_count": 9,
   "metadata": {},
   "outputs": [],
   "source": [
    "data = pd.read_csv('../data/welddb.data', sep=' ', header=None)\n",
    "\n",
    "column_names = [\n",
    "    \"Carbon_concentration\",\n",
    "    \"Silicon_concentration\",\n",
    "    \"Manganese_concentration\",\n",
    "    \"Sulphur_concentration\",\n",
    "    \"Phosphorus_concentration\",\n",
    "    \"Nickel_concentration\",\n",
    "    \"Chromium_concentration\",\n",
    "    \"Molybdenum_concentration\",\n",
    "    \"Vanadium_concentration\",\n",
    "    \"Copper_concentration\",\n",
    "    \"Cobalt_concentration\",\n",
    "    \"Tungsten_concentration\",\n",
    "    \"Oxygen_concentration\",\n",
    "    \"Titanium_concentration\",\n",
    "    \"Nitrogen_concentration\",\n",
    "    \"Aluminium_concentration\",\n",
    "    \"Boron_concentration\",\n",
    "    \"Niobium_concentration\",\n",
    "    \"Tin_concentration\",\n",
    "    \"Arsenic_concentration\",\n",
    "    \"Antimony_concentration\",\n",
    "    \"Current\",\n",
    "    \"Voltage\",\n",
    "    \"AC_or_DC\",\n",
    "    \"Electrode_positive_or_negative\",\n",
    "    \"Heat_input\",\n",
    "    \"Interpass_temperature\",\n",
    "    \"Type_of_weld\",\n",
    "    \"Post_weld_heat_treatment_temperature\",\n",
    "    \"Post_weld_heat_treatment_time\",\n",
    "    \"Yield_strength\",\n",
    "    \"Ultimate_tensile_strength\",\n",
    "    \"Elongation\",\n",
    "    \"Reduction_of_Area\",\n",
    "    \"Charpy_temperature\",\n",
    "    \"Charpy_impact_toughness\",\n",
    "    \"Hardness\",\n",
    "    \"50%_FATT\",\n",
    "    \"Primary_ferrite_in_microstructure\",\n",
    "    \"Ferrite_with_second_phase\",\n",
    "    \"Acicular_ferrite\",\n",
    "    \"Martensite\",\n",
    "    \"Ferrite_with_carbide_aggregate\",\n",
    "    \"Weld_ID\"\n",
    "]\n",
    "\n",
    "sulphur_and_phosphorus_columns = [\"Sulphur_concentration\",\"Phosphorus_concentration\"]\n",
    "\n",
    "other_concentration_columns = [\"Carbon_concentration\",\n",
    "        \"Silicon_concentration\",\n",
    "        \"Manganese_concentration\",\n",
    "        \"Nickel_concentration\",\n",
    "        \"Chromium_concentration\",\n",
    "        \"Molybdenum_concentration\",\n",
    "        \"Vanadium_concentration\",\n",
    "        \"Copper_concentration\",\n",
    "        \"Cobalt_concentration\",\n",
    "        \"Tungsten_concentration\",\n",
    "        \"Oxygen_concentration\",\n",
    "        \"Titanium_concentration\",\n",
    "        \"Nitrogen_concentration\",\n",
    "        'Nitrogen_concentration_residual',\n",
    "        \"Aluminium_concentration\",\n",
    "        \"Boron_concentration\",\n",
    "        \"Niobium_concentration\",\n",
    "        \"Tin_concentration\",\n",
    "        \"Arsenic_concentration\",\n",
    "        \"Antimony_concentration\"]\n",
    "\n",
    "label_names = ['Yield_strength', 'Ultimate_tensile_strength', 'Elongation', 'Reduction_of_Area', 'Charpy_temperature', \n",
    "                   'Charpy_impact_toughness', 'Hardness', '50%_FATT', 'Primary_ferrite_in_microstructure', 'Ferrite_with_second_phase', \n",
    "                   'Acicular_ferrite', 'Martensite', 'Ferrite_with_carbide_aggregate', 'Hardness_load']\n",
    "\n",
    "physical_ordinal_properties_columns = [\n",
    "        'Current', \n",
    "        'Voltage',\n",
    "        'Heat_input',\n",
    "        'Interpass_temperature',\n",
    "        'Post_weld_heat_treatment_temperature',\n",
    "        'Post_weld_heat_treatment_time', \n",
    "    ]\n",
    "\n",
    "physical_categorical_properties_columns = [\n",
    "    'AC_or_DC',\n",
    "    'Electrode_positive_or_negative',\n",
    "    'Type_of_weld'\n",
    "]\n",
    "\n",
    "data.columns = column_names"
   ]
  },
  {
   "cell_type": "code",
   "execution_count": 10,
   "metadata": {},
   "outputs": [],
   "source": [
    "# Suppress all FutureWarnings\n",
    "warnings.filterwarnings(\"ignore\", category=FutureWarning)\n",
    "\n",
    "#Selection of the targets\n",
    "labels_selected = [\"Yield_strength\"]\n",
    "\n",
    "#Replace 'N' value with Nan\n",
    "data = replace_data(data)\n",
    "\n",
    "#Selection fof the data for supervised learning\n",
    "data_with_label = data.copy()\n",
    "data_with_label = data[data_with_label[labels_selected].notna().all(axis=1)]\n",
    "\n",
    "#Separation of features and labels\n",
    "X, y = choose_labels(data_with_label, labels_chosen=labels_selected)\n"
   ]
  },
  {
   "cell_type": "markdown",
   "metadata": {},
   "source": [
    "# Linear Regression"
   ]
  },
  {
   "cell_type": "markdown",
   "metadata": {},
   "source": [
    "## Training, Validation and Test Set"
   ]
  },
  {
   "cell_type": "code",
   "execution_count": 11,
   "metadata": {},
   "outputs": [
    {
     "name": "stdout",
     "output_type": "stream",
     "text": [
      "Number of components chosen by PCA: 16\n",
      "Explained Variance Ratio: [0.1417783  0.13096131 0.07509128 0.06767513 0.05919526 0.04746247\n",
      " 0.04326758 0.03816442 0.03698318 0.03537689 0.03304419 0.03132463\n",
      " 0.02997622 0.02779311 0.02664962 0.02609292]\n"
     ]
    }
   ],
   "source": [
    "# Split into train and test\n",
    "X_train, X_test, y_train, y_test = train_test_split(X, y, test_size=0.1, shuffle=True, random_state=42)\n",
    "\n",
    "X_train, X_test, y_train, y_test = pipeline_training_set(training_set=X_train, training_labels=y_train, testing_set=X_test, testing_labels=y_test, \n",
    "                                                         labels_chosen=labels_selected, categorical_strategy=\"logistic\", \\\n",
    "                                                        ordinal_strategy=\"linear\", is_PCA=True, pca_percent_explained_variance=0.85, \n",
    "                                                        scaler_strategy=\"standard\", pca_columns=\"all_ordinals\", less_than_strategy=\"mean\")"
   ]
  },
  {
   "cell_type": "code",
   "execution_count": 12,
   "metadata": {},
   "outputs": [
    {
     "data": {
      "text/html": [
       "<style>#sk-container-id-1 {color: black;background-color: white;}#sk-container-id-1 pre{padding: 0;}#sk-container-id-1 div.sk-toggleable {background-color: white;}#sk-container-id-1 label.sk-toggleable__label {cursor: pointer;display: block;width: 100%;margin-bottom: 0;padding: 0.3em;box-sizing: border-box;text-align: center;}#sk-container-id-1 label.sk-toggleable__label-arrow:before {content: \"▸\";float: left;margin-right: 0.25em;color: #696969;}#sk-container-id-1 label.sk-toggleable__label-arrow:hover:before {color: black;}#sk-container-id-1 div.sk-estimator:hover label.sk-toggleable__label-arrow:before {color: black;}#sk-container-id-1 div.sk-toggleable__content {max-height: 0;max-width: 0;overflow: hidden;text-align: left;background-color: #f0f8ff;}#sk-container-id-1 div.sk-toggleable__content pre {margin: 0.2em;color: black;border-radius: 0.25em;background-color: #f0f8ff;}#sk-container-id-1 input.sk-toggleable__control:checked~div.sk-toggleable__content {max-height: 200px;max-width: 100%;overflow: auto;}#sk-container-id-1 input.sk-toggleable__control:checked~label.sk-toggleable__label-arrow:before {content: \"▾\";}#sk-container-id-1 div.sk-estimator input.sk-toggleable__control:checked~label.sk-toggleable__label {background-color: #d4ebff;}#sk-container-id-1 div.sk-label input.sk-toggleable__control:checked~label.sk-toggleable__label {background-color: #d4ebff;}#sk-container-id-1 input.sk-hidden--visually {border: 0;clip: rect(1px 1px 1px 1px);clip: rect(1px, 1px, 1px, 1px);height: 1px;margin: -1px;overflow: hidden;padding: 0;position: absolute;width: 1px;}#sk-container-id-1 div.sk-estimator {font-family: monospace;background-color: #f0f8ff;border: 1px dotted black;border-radius: 0.25em;box-sizing: border-box;margin-bottom: 0.5em;}#sk-container-id-1 div.sk-estimator:hover {background-color: #d4ebff;}#sk-container-id-1 div.sk-parallel-item::after {content: \"\";width: 100%;border-bottom: 1px solid gray;flex-grow: 1;}#sk-container-id-1 div.sk-label:hover label.sk-toggleable__label {background-color: #d4ebff;}#sk-container-id-1 div.sk-serial::before {content: \"\";position: absolute;border-left: 1px solid gray;box-sizing: border-box;top: 0;bottom: 0;left: 50%;z-index: 0;}#sk-container-id-1 div.sk-serial {display: flex;flex-direction: column;align-items: center;background-color: white;padding-right: 0.2em;padding-left: 0.2em;position: relative;}#sk-container-id-1 div.sk-item {position: relative;z-index: 1;}#sk-container-id-1 div.sk-parallel {display: flex;align-items: stretch;justify-content: center;background-color: white;position: relative;}#sk-container-id-1 div.sk-item::before, #sk-container-id-1 div.sk-parallel-item::before {content: \"\";position: absolute;border-left: 1px solid gray;box-sizing: border-box;top: 0;bottom: 0;left: 50%;z-index: -1;}#sk-container-id-1 div.sk-parallel-item {display: flex;flex-direction: column;z-index: 1;position: relative;background-color: white;}#sk-container-id-1 div.sk-parallel-item:first-child::after {align-self: flex-end;width: 50%;}#sk-container-id-1 div.sk-parallel-item:last-child::after {align-self: flex-start;width: 50%;}#sk-container-id-1 div.sk-parallel-item:only-child::after {width: 0;}#sk-container-id-1 div.sk-dashed-wrapped {border: 1px dashed gray;margin: 0 0.4em 0.5em 0.4em;box-sizing: border-box;padding-bottom: 0.4em;background-color: white;}#sk-container-id-1 div.sk-label label {font-family: monospace;font-weight: bold;display: inline-block;line-height: 1.2em;}#sk-container-id-1 div.sk-label-container {text-align: center;}#sk-container-id-1 div.sk-container {/* jupyter's `normalize.less` sets `[hidden] { display: none; }` but bootstrap.min.css set `[hidden] { display: none !important; }` so we also need the `!important` here to be able to override the default hidden behavior on the sphinx rendered scikit-learn.org. See: https://github.com/scikit-learn/scikit-learn/issues/21755 */display: inline-block !important;position: relative;}#sk-container-id-1 div.sk-text-repr-fallback {display: none;}</style><div id=\"sk-container-id-1\" class=\"sk-top-container\"><div class=\"sk-text-repr-fallback\"><pre>LinearRegression()</pre><b>In a Jupyter environment, please rerun this cell to show the HTML representation or trust the notebook. <br />On GitHub, the HTML representation is unable to render, please try loading this page with nbviewer.org.</b></div><div class=\"sk-container\" hidden><div class=\"sk-item\"><div class=\"sk-estimator sk-toggleable\"><input class=\"sk-toggleable__control sk-hidden--visually\" id=\"sk-estimator-id-1\" type=\"checkbox\" checked><label for=\"sk-estimator-id-1\" class=\"sk-toggleable__label sk-toggleable__label-arrow\">LinearRegression</label><div class=\"sk-toggleable__content\"><pre>LinearRegression()</pre></div></div></div></div></div>"
      ],
      "text/plain": [
       "LinearRegression()"
      ]
     },
     "execution_count": 12,
     "metadata": {},
     "output_type": "execute_result"
    }
   ],
   "source": [
    "from sklearn.linear_model import LinearRegression\n",
    "from sklearn.metrics import mean_squared_error\n",
    "\n",
    "reg = LinearRegression()\n",
    "reg.fit(X_train, y_train)"
   ]
  },
  {
   "cell_type": "code",
   "execution_count": 13,
   "metadata": {},
   "outputs": [
    {
     "name": "stdout",
     "output_type": "stream",
     "text": [
      "RMSE : 81.84526838658456\n"
     ]
    }
   ],
   "source": [
    "y_pred = reg.predict(X_test)\n",
    "rmse = np.sqrt(mean_squared_error(y_test, y_pred))\n",
    "print(\"RMSE :\", rmse)"
   ]
  },
  {
   "cell_type": "markdown",
   "metadata": {},
   "source": [
    "# K-Cross Validation"
   ]
  },
  {
   "cell_type": "code",
   "execution_count": 15,
   "metadata": {},
   "outputs": [
    {
     "name": "stdout",
     "output_type": "stream",
     "text": [
      "Scores:  [ 73.72950888  69.54639812  74.20313059  82.38812438  87.5154507\n",
      "  86.80697787 101.8256805   87.41300772  89.30895502  82.84505246]\n",
      "Mean Scores:  83.55822862421469\n"
     ]
    }
   ],
   "source": [
    "# K-Cross Validation\n",
    "from sklearn.model_selection import cross_val_score\n",
    "scores = cross_val_score(reg, X_train, y_train, scoring=\"neg_mean_squared_error\", cv=10)\n",
    "rmse_scores = np.sqrt(-scores)\n",
    "print(\"Scores: \", rmse_scores)\n",
    "print(\"Mean Scores: \", rmse_scores.mean())"
   ]
  }
 ],
 "metadata": {
  "kernelspec": {
   "display_name": "Python 3",
   "language": "python",
   "name": "python3"
  },
  "language_info": {
   "codemirror_mode": {
    "name": "ipython",
    "version": 3
   },
   "file_extension": ".py",
   "mimetype": "text/x-python",
   "name": "python",
   "nbconvert_exporter": "python",
   "pygments_lexer": "ipython3",
   "version": "3.10.8"
  }
 },
 "nbformat": 4,
 "nbformat_minor": 2
}

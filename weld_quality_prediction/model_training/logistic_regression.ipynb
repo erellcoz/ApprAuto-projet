{
 "cells": [
  {
   "cell_type": "code",
   "execution_count": 1,
   "metadata": {},
   "outputs": [],
   "source": [
    "import sys\n",
    "import os\n",
    "import warnings\n",
    "import pandas as pd\n",
    "import numpy as np\n",
    "\n",
    "# Add the root directory to the Python path\n",
    "sys.path.append(os.path.abspath(os.path.join(os.path.dirname('weld_quality_prediction'), '..')))\n",
    "\n",
    "from data_preprocessing.functions import replace_data, choose_labels, pipeline_training_set\n",
    "from sklearn.model_selection import train_test_split\n",
    "from sklearn.linear_model import LinearRegression\n",
    "from sklearn.model_selection import cross_val_score\n",
    "from sklearn.metrics import mean_squared_error"
   ]
  },
  {
   "cell_type": "code",
   "execution_count": 2,
   "metadata": {},
   "outputs": [],
   "source": [
    "data = pd.read_csv('../data/welddb.data', sep=' ', header=None)\n",
    "\n",
    "column_names = [\n",
    "    \"Carbon_concentration\",\n",
    "    \"Silicon_concentration\",\n",
    "    \"Manganese_concentration\",\n",
    "    \"Sulphur_concentration\",\n",
    "    \"Phosphorus_concentration\",\n",
    "    \"Nickel_concentration\",\n",
    "    \"Chromium_concentration\",\n",
    "    \"Molybdenum_concentration\",\n",
    "    \"Vanadium_concentration\",\n",
    "    \"Copper_concentration\",\n",
    "    \"Cobalt_concentration\",\n",
    "    \"Tungsten_concentration\",\n",
    "    \"Oxygen_concentration\",\n",
    "    \"Titanium_concentration\",\n",
    "    \"Nitrogen_concentration\",\n",
    "    \"Aluminium_concentration\",\n",
    "    \"Boron_concentration\",\n",
    "    \"Niobium_concentration\",\n",
    "    \"Tin_concentration\",\n",
    "    \"Arsenic_concentration\",\n",
    "    \"Antimony_concentration\",\n",
    "    \"Current\",\n",
    "    \"Voltage\",\n",
    "    \"AC_or_DC\",\n",
    "    \"Electrode_positive_or_negative\",\n",
    "    \"Heat_input\",\n",
    "    \"Interpass_temperature\",\n",
    "    \"Type_of_weld\",\n",
    "    \"Post_weld_heat_treatment_temperature\",\n",
    "    \"Post_weld_heat_treatment_time\",\n",
    "    \"Yield_strength\",\n",
    "    \"Ultimate_tensile_strength\",\n",
    "    \"Elongation\",\n",
    "    \"Reduction_of_Area\",\n",
    "    \"Charpy_temperature\",\n",
    "    \"Charpy_impact_toughness\",\n",
    "    \"Hardness\",\n",
    "    \"50%_FATT\",\n",
    "    \"Primary_ferrite_in_microstructure\",\n",
    "    \"Ferrite_with_second_phase\",\n",
    "    \"Acicular_ferrite\",\n",
    "    \"Martensite\",\n",
    "    \"Ferrite_with_carbide_aggregate\",\n",
    "    \"Weld_ID\"\n",
    "]\n",
    "\n",
    "sulphur_and_phosphorus_columns = [\"Sulphur_concentration\",\"Phosphorus_concentration\"]\n",
    "\n",
    "other_concentration_columns = [\"Carbon_concentration\",\n",
    "        \"Silicon_concentration\",\n",
    "        \"Manganese_concentration\",\n",
    "        \"Nickel_concentration\",\n",
    "        \"Chromium_concentration\",\n",
    "        \"Molybdenum_concentration\",\n",
    "        \"Vanadium_concentration\",\n",
    "        \"Copper_concentration\",\n",
    "        \"Cobalt_concentration\",\n",
    "        \"Tungsten_concentration\",\n",
    "        \"Oxygen_concentration\",\n",
    "        \"Titanium_concentration\",\n",
    "        \"Nitrogen_concentration\",\n",
    "        'Nitrogen_concentration_residual',\n",
    "        \"Aluminium_concentration\",\n",
    "        \"Boron_concentration\",\n",
    "        \"Niobium_concentration\",\n",
    "        \"Tin_concentration\",\n",
    "        \"Arsenic_concentration\",\n",
    "        \"Antimony_concentration\"]\n",
    "\n",
    "label_names = ['Yield_strength', 'Ultimate_tensile_strength', 'Elongation', 'Reduction_of_Area', 'Charpy_temperature', \n",
    "                   'Charpy_impact_toughness', 'Hardness', '50%_FATT', 'Primary_ferrite_in_microstructure', 'Ferrite_with_second_phase', \n",
    "                   'Acicular_ferrite', 'Martensite', 'Ferrite_with_carbide_aggregate', 'Hardness_load']\n",
    "\n",
    "physical_ordinal_properties_columns = [\n",
    "        'Current', \n",
    "        'Voltage',\n",
    "        'Heat_input',\n",
    "        'Interpass_temperature',\n",
    "        'Post_weld_heat_treatment_temperature',\n",
    "        'Post_weld_heat_treatment_time', \n",
    "    ]\n",
    "\n",
    "physical_categorical_properties_columns = [\n",
    "    'AC_or_DC',\n",
    "    'Electrode_positive_or_negative',\n",
    "    'Type_of_weld'\n",
    "]\n",
    "\n",
    "data.columns = column_names"
   ]
  },
  {
   "cell_type": "code",
   "execution_count": 3,
   "metadata": {},
   "outputs": [],
   "source": [
    "# Suppress all FutureWarnings\n",
    "warnings.filterwarnings(\"ignore\", category=FutureWarning)\n",
    "\n",
    "#Selection of the targets\n",
    "labels_selected = [\"Yield_strength\"]\n",
    "\n",
    "#Replace 'N' value with Nan\n",
    "data = replace_data(data)\n",
    "\n",
    "#Selection fof the data for supervised learning\n",
    "data_with_label = data.copy()\n",
    "data_with_label = data[data_with_label[labels_selected].notna().all(axis=1)]\n",
    "\n",
    "#Separation of features and labels\n",
    "X, y = choose_labels(data_with_label, labels_chosen=labels_selected)\n"
   ]
  },
  {
   "cell_type": "markdown",
   "metadata": {},
   "source": [
    "# Linear Regression"
   ]
  },
  {
   "cell_type": "markdown",
   "metadata": {},
   "source": [
    "## Finding best hyperparameters with grid Search \n",
    "Training, Validation and Test Set"
   ]
  },
  {
   "cell_type": "code",
   "execution_count": 12,
   "metadata": {},
   "outputs": [
    {
     "name": "stdout",
     "output_type": "stream",
     "text": [
      "Number of components chosen by PCA: 3\n",
      "Explained Variance Ratio: [0.3951825  0.33907527 0.07457294]\n",
      "\n",
      " Mean Scores:  85.13372602119684 \n",
      "\n",
      "Number of components chosen by PCA: 4\n",
      "Explained Variance Ratio: [0.39527361 0.33923974 0.07455471 0.05843857]\n",
      "\n",
      " Mean Scores:  84.9895689145184 \n",
      "\n",
      "Number of components chosen by PCA: 5\n",
      "Explained Variance Ratio: [0.39527361 0.33923974 0.07455471 0.05843857 0.04948367]\n",
      "\n",
      " Mean Scores:  85.0440235343323 \n",
      "\n"
     ]
    }
   ],
   "source": [
    "# Split into train and test\n",
    "X_train, X_test, y_train, y_test = train_test_split(X, y, test_size=0.1, shuffle=True, random_state=42)\n",
    "\n",
    "# Grid Search\n",
    "pca_percent_explained_variances = [0.8, 0.85, 0.9]\n",
    "\n",
    "best_model = None\n",
    "best_score = float('inf')\n",
    "best_pca_percent_explained_variance = None\n",
    "\n",
    "# K-Cross Validation\n",
    "for pca_percent_explained_variance in pca_percent_explained_variances:\n",
    "    current_X_train, current_X_test, current_y_train, current_y_test = pipeline_training_set(training_set=X_train, training_labels=y_train, testing_set=X_test, testing_labels=y_test, \n",
    "                                                             labels_chosen=labels_selected, categorical_strategy=\"logistic\", \\\n",
    "                                                            ordinal_strategy=\"linear\", is_PCA=True, pca_percent_explained_variance=pca_percent_explained_variance, \n",
    "                                                            scaler_strategy=\"normalizer\", pca_columns=\"all_ordinals\", less_than_strategy=\"mean\")\n",
    "    reg = LinearRegression()\n",
    "    scores = cross_val_score(reg, current_X_train, current_y_train, scoring=\"neg_mean_squared_error\", cv=10)\n",
    "    rmse_scores = np.sqrt(-scores)\n",
    "    score = rmse_scores.mean()\n",
    "    print(\"\\n Mean Scores: \", score, \"\\n\")\n",
    "    if score < best_score:\n",
    "        best_score = score\n",
    "        best_model = reg\n",
    "        best_pca_percent_explained_variance = pca_percent_explained_variance"
   ]
  },
  {
   "cell_type": "markdown",
   "metadata": {},
   "source": [
    "## Best hyperparameters for linear regression \n",
    "\n",
    "- pca_percent_explained_variance = 0.85\n",
    "\n",
    "- scaler_strategy = normalizer\n",
    "\n",
    "- Number of components chosen by PCA: 4\n",
    "\n",
    "- Validation MSE = 84.9895689145184\n",
    "\n",
    "- Perf on unseen data (mse) = 98.29864758226721\n",
    "\n",
    "<div class=\"alert alert-block alert-success\">\n",
    "<b> Explanation </b>\n",
    "\n",
    "- Using PCA approach help getting rid of outliers\n",
    "\n",
    "- Choosing a normalizer strategy keeps the variance of each feature while standardising them might loose it.\n",
    "More PCA components will then be computed for a standard strategy compared to a normalizer strategy \n",
    "which does not help reducing the dimension of the dataset.\n",
    "\n",
    "- categorical_strategy, ordinal_strategy, less_than_strategy do not have any influence on the validation set \n",
    "\n",
    "</div>"
   ]
  },
  {
   "cell_type": "code",
   "execution_count": 10,
   "metadata": {},
   "outputs": [
    {
     "name": "stdout",
     "output_type": "stream",
     "text": [
      "Number of components chosen by PCA: 4\n",
      "Explained Variance Ratio: [0.39527361 0.33923974 0.07455471 0.05843857]\n",
      "\n",
      " mse:  98.29864758226721\n"
     ]
    }
   ],
   "source": [
    "new_X_train, new_X_test, new_y_train, new_y_test = pipeline_training_set(training_set=X_train, training_labels=y_train, testing_set=X_test, testing_labels=y_test, \n",
    "                                                             labels_chosen=labels_selected, categorical_strategy=\"logistic\", \\\n",
    "                                                            ordinal_strategy=\"linear\", is_PCA=True, pca_percent_explained_variance=best_pca_percent_explained_variance, \n",
    "                                                            scaler_strategy=\"normalizer\", pca_columns=\"all_ordinals\", less_than_strategy=\"mean\")\n",
    "\n",
    "best_model.fit(new_X_train, new_y_train)\n",
    "y_pred = best_model.predict(new_X_test)\n",
    "mse = np.sqrt(mean_squared_error(new_y_test, y_pred))\n",
    "print(\"\\nmse: \", mse)"
   ]
  },
  {
   "cell_type": "code",
   "execution_count": 9,
   "metadata": {},
   "outputs": [
    {
     "data": {
      "image/png": "[encoded data removed]",
      "text/plain": [
       "<Figure size 1000x600 with 1 Axes>"
      ]
     },
     "metadata": {},
     "output_type": "display_data"
    }
   ],
   "source": [
    "import matplotlib.pyplot as plt\n",
    "\n",
    "# Convert new_y_test to a numpy array for plotting\n",
    "new_y_test_values = new_y_test.values.astype(float)\n",
    "\n",
    "# Plotting\n",
    "plt.figure(figsize=(10, 6))\n",
    "plt.scatter(new_y_test_values, y_pred, color='blue', label='Predicted vs Actual')\n",
    "plt.plot([new_y_test_values.min(), new_y_test_values.max()], [new_y_test_values.min(), new_y_test_values.max()], 'k--', lw=2, label='Ideal Fit')\n",
    "plt.xlabel('Labeled Yield Strength')\n",
    "plt.ylabel('Predicted Yield Strength')\n",
    "plt.title('Ground truth vs predicted Yield Strength')\n",
    "plt.legend()\n",
    "plt.show()"
   ]
  },
  {
   "cell_type": "markdown",
   "metadata": {},
   "source": [
    "<div class=\"alert alert-block alert-info\">\n",
    "\n",
    "Linear Regression is probably not the best approach for this problem \n",
    "</div>"
   ]
  }
 ],
 "metadata": {
  "kernelspec": {
   "display_name": "base",
   "language": "python",
   "name": "python3"
  },
  "language_info": {
   "codemirror_mode": {
    "name": "ipython",
    "version": 3
   },
   "file_extension": ".py",
   "mimetype": "text/x-python",
   "name": "python",
   "nbconvert_exporter": "python",
   "pygments_lexer": "ipython3",
   "version": "3.9.13"
  }
 },
 "nbformat": 4,
 "nbformat_minor": 2
}
